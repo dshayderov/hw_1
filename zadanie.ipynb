{
 "cells": [
  {
   "cell_type": "markdown",
   "id": "97796b3c",
   "metadata": {},
   "source": [
    "Процесс денатурации ДНК представляет разрушение водородных связей между двумя цепями этой молекулы и очень сильно зависит от температуры, с которой мы воздействуем на молекулу.  \n",
    "    \n",
    "При сравнении двух видов между собой в исследовании были получены следующие различия в средней температуре плавления ДНК:"
   ]
  },
  {
   "cell_type": "code",
   "execution_count": 1,
   "id": "64f890ae",
   "metadata": {},
   "outputs": [],
   "source": [
    "from scipy import stats"
   ]
  },
  {
   "cell_type": "markdown",
   "id": "f0026af7",
   "metadata": {},
   "source": [
    "Вид №1"
   ]
  },
  {
   "cell_type": "code",
   "execution_count": 2,
   "id": "1001afe3",
   "metadata": {},
   "outputs": [
    {
     "name": "stdout",
     "output_type": "stream",
     "text": [
      "[ 95.94389255  97.11642295  99.54182584  95.1333488   81.28119915\n",
      "  86.90464597  61.72244981  95.34679097 102.65272959  98.39963062\n",
      "  84.12863605  83.75480547  92.686485    94.12535425  73.35868654\n",
      "  98.54525165  82.08107358  98.60687681 106.06958329  92.7500602 ]\n"
     ]
    }
   ],
   "source": [
    "vid1 = stats.norm.rvs(loc = 89.9, scale = 11.3, size = 20)\n",
    "print(vid1)"
   ]
  },
  {
   "cell_type": "markdown",
   "id": "65031c38",
   "metadata": {},
   "source": [
    "Вид №2"
   ]
  },
  {
   "cell_type": "code",
   "execution_count": 4,
   "id": "abc6e427",
   "metadata": {},
   "outputs": [
    {
     "name": "stdout",
     "output_type": "stream",
     "text": [
      "[ 72.47871826  76.70042273  87.0804968   95.67827522  71.8603272\n",
      "  77.42837393  57.33731263  85.43274383  78.10285044  83.50500395\n",
      " 106.77467524  81.87108058  81.9750283   80.61439021  98.51697348\n",
      "  77.01822494  52.64288122  90.00257255 101.81701976  64.32557314]\n"
     ]
    }
   ],
   "source": [
    "vid2 = stats.norm.rvs(loc = 80.7, scale = 11.7, size = 20)\n",
    "print(vid2)"
   ]
  },
  {
   "cell_type": "markdown",
   "id": "de2e51d9",
   "metadata": {},
   "source": [
    "Формулируем нулевую и альтернативную гипотезы:  \n",
    "H0: M(1 вид) = M(2 вид)  \n",
    "Н1: М(1 вид) != М(2 вид)"
   ]
  },
  {
   "cell_type": "markdown",
   "id": "8efdfda9",
   "metadata": {},
   "source": [
    "Рассчитаем t-критерий"
   ]
  },
  {
   "cell_type": "code",
   "execution_count": 5,
   "id": "2d9999a0",
   "metadata": {},
   "outputs": [
    {
     "name": "stdout",
     "output_type": "stream",
     "text": [
      "Ttest_indResult(statistic=2.5472805158010257, pvalue=0.015026589428593733)\n"
     ]
    }
   ],
   "source": [
    "print(stats.ttest_ind(vid1, vid2))"
   ]
  },
  {
   "cell_type": "markdown",
   "id": "c54da186",
   "metadata": {},
   "source": [
    "P < 0.05, поэтому можем принять альтернативную гипотезу Н1."
   ]
  },
  {
   "cell_type": "code",
   "execution_count": null,
   "id": "45e06249",
   "metadata": {},
   "outputs": [],
   "source": []
  }
 ],
 "metadata": {
  "kernelspec": {
   "display_name": "Python 3 (ipykernel)",
   "language": "python",
   "name": "python3"
  },
  "language_info": {
   "codemirror_mode": {
    "name": "ipython",
    "version": 3
   },
   "file_extension": ".py",
   "mimetype": "text/x-python",
   "name": "python",
   "nbconvert_exporter": "python",
   "pygments_lexer": "ipython3",
   "version": "3.9.7"
  }
 },
 "nbformat": 4,
 "nbformat_minor": 5
}
