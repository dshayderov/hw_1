{
 "cells": [
  {
   "cell_type": "markdown",
   "id": "62c06c13",
   "metadata": {},
   "source": [
    "Психолог предположил, что в результате научения время решения эквивалентных задач 'игры в 5' (т. е. имеющих один и тот же алгоритм решения) будет значимо уменьшаться. Для проверки гипотезы у восьми испытуемых сравнивалось время решения (в минутах) первой и третьей задач."
   ]
  },
  {
   "cell_type": "markdown",
   "id": "caa0b28b",
   "metadata": {},
   "source": [
    "Результаты эксперимента:"
   ]
  },
  {
   "cell_type": "code",
   "execution_count": 7,
   "id": "1e054c45",
   "metadata": {},
   "outputs": [],
   "source": [
    "from scipy import stats"
   ]
  },
  {
   "cell_type": "code",
   "execution_count": 9,
   "id": "d879aff8",
   "metadata": {},
   "outputs": [],
   "source": [
    "z1 = [4.0,3.5,4.1,5.5,4.6,6.0,5.1,4.3]\n",
    "z2 = [3.0,3.0,3.8,2.1,4.9,5.3,3.1,2.7]"
   ]
  },
  {
   "cell_type": "markdown",
   "id": "109231ed",
   "metadata": {},
   "source": [
    "Формулируем нулевую и альтернативную гипотезы  \n",
    "Н0: М(1 задача) = М(3 задача)  \n",
    "Н1: М(1 задача) != М(3 задача)"
   ]
  },
  {
   "cell_type": "markdown",
   "id": "64422abf",
   "metadata": {},
   "source": [
    "Расчитаем t-критерий"
   ]
  },
  {
   "cell_type": "code",
   "execution_count": 10,
   "id": "cb32784f",
   "metadata": {},
   "outputs": [
    {
     "name": "stdout",
     "output_type": "stream",
     "text": [
      "Ttest_indResult(statistic=2.34502977713557, pvalue=0.03428662473942781)\n"
     ]
    }
   ],
   "source": [
    "print(stats.ttest_ind(z1, z2))"
   ]
  },
  {
   "cell_type": "markdown",
   "id": "17ef6b3b",
   "metadata": {},
   "source": [
    "P < 0.05, поэтому можем принять альтернативную гипотезу Н1 о различиях"
   ]
  },
  {
   "cell_type": "code",
   "execution_count": null,
   "id": "e4bd1067",
   "metadata": {},
   "outputs": [],
   "source": []
  }
 ],
 "metadata": {
  "kernelspec": {
   "display_name": "Python 3 (ipykernel)",
   "language": "python",
   "name": "python3"
  },
  "language_info": {
   "codemirror_mode": {
    "name": "ipython",
    "version": 3
   },
   "file_extension": ".py",
   "mimetype": "text/x-python",
   "name": "python",
   "nbconvert_exporter": "python",
   "pygments_lexer": "ipython3",
   "version": "3.9.7"
  }
 },
 "nbformat": 4,
 "nbformat_minor": 5
}
